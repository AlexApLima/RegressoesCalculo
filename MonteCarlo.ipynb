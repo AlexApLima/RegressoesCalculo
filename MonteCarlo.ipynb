{
  "nbformat": 4,
  "nbformat_minor": 0,
  "metadata": {
    "colab": {
      "provenance": []
    },
    "kernelspec": {
      "name": "python3",
      "display_name": "Python 3"
    },
    "language_info": {
      "name": "python"
    }
  },
  "cells": [
    {
      "cell_type": "code",
      "execution_count": 1,
      "metadata": {
        "id": "SXBn-z3crLbt"
      },
      "outputs": [],
      "source": [
        "import pymc as pm"
      ]
    },
    {
      "cell_type": "markdown",
      "source": [
        "# Método de Monte Carlo\n",
        "Função: F(x) = 3x^2\n",
        "\n",
        "Resolver: P(0 <= X <= 1)"
      ],
      "metadata": {
        "id": "sX8qWb0gBpKW"
      }
    },
    {
      "cell_type": "markdown",
      "source": [],
      "metadata": {
        "id": "qzBQe9g1FZ1z"
      }
    },
    {
      "cell_type": "code",
      "source": [
        "import math\n",
        "import numpy as np\n",
        "import pymc as pm\n",
        "\n",
        "base = 1\n",
        "altura = 3\n",
        "base, altura"
      ],
      "metadata": {
        "colab": {
          "base_uri": "https://localhost:8080/"
        },
        "id": "ROjlb8GfBode",
        "outputId": "2f7b7bc8-64a7-4f35-dd4c-9d6f33dcf0d6",
        "collapsed": true
      },
      "execution_count": 8,
      "outputs": [
        {
          "output_type": "execute_result",
          "data": {
            "text/plain": [
              "(1, 3)"
            ]
          },
          "metadata": {},
          "execution_count": 8
        }
      ]
    },
    {
      "cell_type": "code",
      "source": [
        "with pm.Model() as model_2:\n",
        "  X = pm.Uniform(\"X\",0.1,base,shape=3000)\n",
        "  Y = pm.Uniform(\"Y\",0,altura,shape=3000)"
      ],
      "metadata": {
        "id": "V-1mT8p0B-eR"
      },
      "execution_count": 9,
      "outputs": []
    },
    {
      "cell_type": "code",
      "source": [
        "model_2"
      ],
      "metadata": {
        "colab": {
          "base_uri": "https://localhost:8080/",
          "height": 58
        },
        "id": "sHg3gF1BCnFD",
        "outputId": "dedfecab-d15f-4865-f807-daa3242a97cd"
      },
      "execution_count": 10,
      "outputs": [
        {
          "output_type": "execute_result",
          "data": {
            "text/plain": [
              "<pymc.model.core.Model at 0x7dadab28bb20>"
            ],
            "text/latex": "$$\n            \\begin{array}{rcl}\n            \\text{X} &\\sim & \\operatorname{Uniform}(0.1,~1)\\\\\\text{Y} &\\sim & \\operatorname{Uniform}(0,~3)\n            \\end{array}\n            $$"
          },
          "metadata": {},
          "execution_count": 10
        }
      ]
    },
    {
      "cell_type": "code",
      "source": [
        "with model_2:\n",
        "  trace_2 = pm.sample()"
      ],
      "metadata": {
        "colab": {
          "base_uri": "https://localhost:8080/",
          "height": 57
        },
        "id": "ivS23BifCrPe",
        "outputId": "6110605a-e0fa-4f83-9b13-01fabaf8b536"
      },
      "execution_count": 7,
      "outputs": [
        {
          "output_type": "display_data",
          "data": {
            "text/plain": [
              "<IPython.core.display.HTML object>"
            ],
            "text/html": [
              "\n",
              "<style>\n",
              "    /* Turns off some styling */\n",
              "    progress {\n",
              "        /* gets rid of default border in Firefox and Opera. */\n",
              "        border: none;\n",
              "        /* Needs to be in here for Safari polyfill so background images work as expected. */\n",
              "        background-size: auto;\n",
              "    }\n",
              "    progress:not([value]), progress:not([value])::-webkit-progress-bar {\n",
              "        background: repeating-linear-gradient(45deg, #7e7e7e, #7e7e7e 10px, #5c5c5c 10px, #5c5c5c 20px);\n",
              "    }\n",
              "    .progress-bar-interrupted, .progress-bar-interrupted::-webkit-progress-bar {\n",
              "        background: #F44336;\n",
              "    }\n",
              "</style>\n"
            ]
          },
          "metadata": {}
        },
        {
          "output_type": "display_data",
          "data": {
            "text/plain": [
              "<IPython.core.display.HTML object>"
            ],
            "text/html": [
              "\n",
              "    <div>\n",
              "      <progress value='2000' class='' max='2000' style='width:300px; height:20px; vertical-align: middle;'></progress>\n",
              "      100.00% [2000/2000 00:42&lt;00:00 Sampling chain 0, 0 divergences]\n",
              "    </div>\n",
              "    "
            ]
          },
          "metadata": {}
        },
        {
          "output_type": "display_data",
          "data": {
            "text/plain": [
              "<IPython.core.display.HTML object>"
            ],
            "text/html": [
              "\n",
              "<style>\n",
              "    /* Turns off some styling */\n",
              "    progress {\n",
              "        /* gets rid of default border in Firefox and Opera. */\n",
              "        border: none;\n",
              "        /* Needs to be in here for Safari polyfill so background images work as expected. */\n",
              "        background-size: auto;\n",
              "    }\n",
              "    progress:not([value]), progress:not([value])::-webkit-progress-bar {\n",
              "        background: repeating-linear-gradient(45deg, #7e7e7e, #7e7e7e 10px, #5c5c5c 10px, #5c5c5c 20px);\n",
              "    }\n",
              "    .progress-bar-interrupted, .progress-bar-interrupted::-webkit-progress-bar {\n",
              "        background: #F44336;\n",
              "    }\n",
              "</style>\n"
            ]
          },
          "metadata": {}
        },
        {
          "output_type": "display_data",
          "data": {
            "text/plain": [
              "<IPython.core.display.HTML object>"
            ],
            "text/html": [
              "\n",
              "    <div>\n",
              "      <progress value='2000' class='' max='2000' style='width:300px; height:20px; vertical-align: middle;'></progress>\n",
              "      100.00% [2000/2000 00:41&lt;00:00 Sampling chain 1, 0 divergences]\n",
              "    </div>\n",
              "    "
            ]
          },
          "metadata": {}
        }
      ]
    },
    {
      "cell_type": "markdown",
      "source": [
        "Amostras = Cria valores entre os intervalos. Nesse caso o intervalo de X e o de Y\n",
        "\n",
        "---\n",
        "\n"
      ],
      "metadata": {
        "id": "JxjWTpIM0fu1"
      }
    },
    {
      "cell_type": "code",
      "source": [
        "amostrasX = trace_2.posterior[\"X\"].values[1][999]\n",
        "amostrasY = trace_2.posterior[\"Y\"].values[1][999]"
      ],
      "metadata": {
        "id": "qit9CcPdDAAw"
      },
      "execution_count": 11,
      "outputs": []
    },
    {
      "cell_type": "code",
      "source": [
        "pedras = list(zip(amostrasX,amostrasY))\n",
        "len(pedras)"
      ],
      "metadata": {
        "colab": {
          "base_uri": "https://localhost:8080/"
        },
        "id": "Cr12P2fgDI7S",
        "outputId": "4ba36098-d772-4c75-8eee-ac634e932956"
      },
      "execution_count": 12,
      "outputs": [
        {
          "output_type": "execute_result",
          "data": {
            "text/plain": [
              "3000"
            ]
          },
          "metadata": {},
          "execution_count": 12
        }
      ]
    },
    {
      "cell_type": "code",
      "source": [
        "def func(x):\n",
        "  return 3*x**2"
      ],
      "metadata": {
        "id": "TzlnwLmvD39m"
      },
      "execution_count": 13,
      "outputs": []
    },
    {
      "cell_type": "code",
      "source": [
        "ct = 0\n",
        "for (x,y) in pedras:\n",
        "  if (y <= func(x)):\n",
        "    ct += 1\n",
        "\n",
        "print(\"O número de 'pedras' dentro da curva:\", ct)\n",
        "\n",
        "print(\"Área real: 1\")\n",
        "print(f\"Área estimada: {(base-0.1)*altura*ct/len(pedras)}\")"
      ],
      "metadata": {
        "colab": {
          "base_uri": "https://localhost:8080/"
        },
        "id": "ARrAuTApDYWT",
        "outputId": "30176438-9bef-418b-a71f-41fe526b47ea"
      },
      "execution_count": 14,
      "outputs": [
        {
          "output_type": "stream",
          "name": "stdout",
          "text": [
            "O número de 'pedras' dentro da curva: 1097\n",
            "Área real: 1\n",
            "Área estimada: 0.9873000000000001\n"
          ]
        }
      ]
    },
    {
      "cell_type": "code",
      "source": [],
      "metadata": {
        "id": "_8NBP6Y5EROS"
      },
      "execution_count": null,
      "outputs": []
    }
  ]
}